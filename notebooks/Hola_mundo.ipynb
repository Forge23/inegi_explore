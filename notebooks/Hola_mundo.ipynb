{
 "cells": [
  {
   "cell_type": "markdown",
   "metadata": {
    "collapsed": false
   },
   "source": [
    "# Los títulos inician con el símbolo (#)\n",
    "##  Puntos principales con doble símbolo (##)\n",
    "### sub títulos con triple (###)\n",
    "#### Hay Hasta 4 niveles para títulos y subtítulos (####)\n",
    "\n",
    "Este notebook tiene el propósito de ser una guía para el formato, existen 2 tipos de celdas, code cell y markdown cell, la primera es para código y la segunda para documentar el proceso\n",
    "\n",
    "A continuación una celda de código:\n"
   ]
  },
  {
   "cell_type": "code",
   "execution_count": 7,
   "metadata": {
    "collapsed": false
   },
   "outputs": [
    {
     "name": "stdout",
     "output_type": "stream",
     "text": [
      "Hola mundo, soy una celda de código\n",
      "El valor guardado en x es:  123\n"
     ]
    }
   ],
   "source": [
    "print(\"Hola mundo, soy una celda de código\")\n",
    "x = 123\n",
    "print(\"El valor guardado en x es: \", x)"
   ]
  },
  {
   "cell_type": "markdown",
   "metadata": {
    "collapsed": false
   },
   "source": [
    "Para hacer énfasis podemos usar __texto en negritas__ al añadir doble guión bajo al inicio y final de un texto, o bien usar *texto en cursiva* añadiendo un asterisco al inicio y final del texto\n",
    "\n",
    "Si deseamos hacer un listado:\n",
    "1. primer item\n",
    "2. segundo item\n",
    "3. tercer item\n",
    "    3.1 primer sub item\n",
    "    3.2 segundo sub item\n",
    "    3.3 tercer sub item\n",
    "- punto uno\n",
    "- punto dos\n",
    "    - sub punto uno\n",
    "        - sub sub punto uno"
   ]
  },
  {
   "cell_type": "markdown",
   "metadata": {
    "collapsed": false
   },
   "source": [
    "Si queremos utilizar imágenes desde internet para nuestro reporte usamos:\n",
    "<img src=\"https://seeklogo.com/images/D/dataspell-logo-06435B9CF3-seeklogo.com.png\" alt=\"soy una descripción de imagen\" title=\"yo soy un título\" />\n",
    "\n",
    "Más ejemplos para personalizar nuestro notebook en:\n",
    "[Markdown Cheat Sheet](https://www.markdownguide.org/cheat-sheet/)"
   ]
  },
  {
   "cell_type": "markdown",
   "metadata": {
    "collapsed": false
   },
   "source": [
    "Ejemplo del llamado de una función, para mantener legible nuestro notebook"
   ]
  },
  {
   "cell_type": "code",
   "execution_count": 1,
   "metadata": {
    "ExecuteTime": {
     "end_time": "2023-09-12T02:21:46.110403200Z",
     "start_time": "2023-09-12T02:21:45.898510700Z"
    },
    "collapsed": false
   },
   "outputs": [
    {
     "data": {
      "text/plain": [
       "<module 'utils.processing' from 'd:\\\\Descargas\\\\CIencia de datos 1 - 2024\\\\Repositorios\\\\inegi_explore\\\\notebooks\\\\..\\\\utils\\\\processing.py'>"
      ]
     },
     "execution_count": 1,
     "metadata": {},
     "output_type": "execute_result"
    }
   ],
   "source": [
    "import importlib\n",
    "import sys\n",
    "sys.path.append('../')  # Agrega la ruta al directorio utils\n",
    "\n",
    "import utils.imports as imp\n",
    "import utils.visuals as visu\n",
    "import utils.processing as proc\n",
    "\n",
    "importlib.reload(imp)\n",
    "importlib.reload(visu)\n",
    "importlib.reload(proc)\n"
   ]
  },
  {
   "cell_type": "code",
   "execution_count": 2,
   "metadata": {},
   "outputs": [],
   "source": [
    "dataset = imp.read_dataset(\"../../conjunto_de_datos_natalidad_2022.csv\")"
   ]
  },
  {
   "cell_type": "code",
   "execution_count": 3,
   "metadata": {},
   "outputs": [
    {
     "name": "stdout",
     "output_type": "stream",
     "text": [
      "Index(['ent_regis', 'mun_regis', 'loc_regis', 'tloc_regis', 'ent_resid',\n",
      "       'mun_resid', 'loc_resid', 'tloc_resid', 'ent_ocurr', 'mun_ocurr',\n",
      "       'loc_ocurr', 'tloc_ocurr', 'sexo', 'edad_reg', 'edad_madn', 'edad_padn',\n",
      "       'dia_nac', 'mes_nac', 'ano_nac', 'dia_reg', 'mes_reg', 'ano_reg',\n",
      "       'edad_madr', 'edad_padr', 'tipo_nac', 'orden_part', 'lugar_part',\n",
      "       'q_atendio', 'hijos_vivo', 'hijos_sobr', 'edociv_mad', 'escol_mad',\n",
      "       'escol_pad', 'act_mad', 'act_pad', 'pos_mad', 'pos_pad', 'sitlab_mad',\n",
      "       'sitlab_pad', 'fue_prese', 'hora_nac', 'minuto_nac', 'comparecio',\n",
      "       'dis_re_oax'],\n",
      "      dtype='object')\n"
     ]
    }
   ],
   "source": [
    "print(dataset.columns)"
   ]
  },
  {
   "cell_type": "code",
   "execution_count": 83,
   "metadata": {},
   "outputs": [],
   "source": [
    "visu.save_histogram(dataset, 'sexo')"
   ]
  },
  {
   "cell_type": "code",
   "execution_count": 84,
   "metadata": {},
   "outputs": [
    {
     "name": "stdout",
     "output_type": "stream",
     "text": [
      "output/scatterplots folder created\n"
     ]
    }
   ],
   "source": [
    "visu.save_correlation(dataset, \"ent_regis\", \"tipo_nac\")"
   ]
  },
  {
   "cell_type": "code",
   "execution_count": 18,
   "metadata": {},
   "outputs": [],
   "source": [
    "norm_dataset = proc.normalize_diabetes_data(dataset)"
   ]
  },
  {
   "cell_type": "code",
   "execution_count": 46,
   "metadata": {},
   "outputs": [],
   "source": [
    "training_data, test_data = proc.split_data(norm_dataset, 0.7)\n",
    "training_input = training_data[['edad_madn','escol_mad','escol_pad','tloc_resid']]\n",
    "training_output = training_data[\"edociv_mad\"]\n",
    "model = proc.simple_linear_regression(training_input, training_output, 4)"
   ]
  },
  {
   "cell_type": "code",
   "execution_count": 47,
   "metadata": {},
   "outputs": [],
   "source": [
    "test_input = training_data[[ 'edad_madn','escol_mad','escol_pad','tloc_resid']]\n",
    "test_output = training_data[\"edociv_mad\"]\n",
    "test_predictions = proc.test_predictions(model, test_input, 4)"
   ]
  },
  {
   "cell_type": "code",
   "execution_count": 48,
   "metadata": {},
   "outputs": [
    {
     "name": "stdout",
     "output_type": "stream",
     "text": [
      "Coefficients:  [0.10302276 0.06521606 0.16470384 0.27815319]\n",
      "Mean Squared Error:  4.3140565849536175e-07\n",
      "R² Score:  0.18576511325046519\n"
     ]
    }
   ],
   "source": [
    "coefficients = proc.get_coefficients(model)\n",
    "print(\"Coefficients: \", coefficients)\n",
    "MSE = proc.get_mean_squared_error(test_output,\n",
    "                                  test_predictions)\n",
    "print(\"Mean Squared Error: \", MSE)\n",
    "R2 = proc.get_coefficient_determination(test_output,\n",
    "                                        test_predictions)\n",
    "print(\"R² Score: \", R2)"
   ]
  }
 ],
 "metadata": {
  "kernelspec": {
   "display_name": "Python 3 (ipykernel)",
   "language": "python",
   "name": "python3"
  },
  "language_info": {
   "codemirror_mode": {
    "name": "ipython",
    "version": 3
   },
   "file_extension": ".py",
   "mimetype": "text/x-python",
   "name": "python",
   "nbconvert_exporter": "python",
   "pygments_lexer": "ipython3",
   "version": "3.10.10"
  }
 },
 "nbformat": 4,
 "nbformat_minor": 4
}
