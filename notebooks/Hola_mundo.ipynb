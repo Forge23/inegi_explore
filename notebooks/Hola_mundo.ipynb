{
 "cells": [
  {
   "cell_type": "markdown",
   "metadata": {
    "collapsed": false
   },
   "source": [
    "# Los títulos inician con el símbolo (#)\n",
    "##  Puntos principales con doble símbolo (##)\n",
    "### sub títulos con triple (###)\n",
    "#### Hay Hasta 4 niveles para títulos y subtítulos (####)\n",
    "\n",
    "Este notebook tiene el propósito de ser una guía para el formato, existen 2 tipos de celdas, code cell y markdown cell, la primera es para código y la segunda para documentar el proceso\n",
    "\n",
    "A continuación una celda de código:\n"
   ]
  },
  {
   "cell_type": "code",
   "execution_count": 7,
   "metadata": {
    "collapsed": false
   },
   "outputs": [
    {
     "name": "stdout",
     "output_type": "stream",
     "text": [
      "Hola mundo, soy una celda de código\n",
      "El valor guardado en x es:  123\n"
     ]
    }
   ],
   "source": [
    "print(\"Hola mundo, soy una celda de código\")\n",
    "x = 123\n",
    "print(\"El valor guardado en x es: \", x)"
   ]
  },
  {
   "cell_type": "markdown",
   "metadata": {
    "collapsed": false
   },
   "source": [
    "Para hacer énfasis podemos usar __texto en negritas__ al añadir doble guión bajo al inicio y final de un texto, o bien usar *texto en cursiva* añadiendo un asterisco al inicio y final del texto\n",
    "\n",
    "Si deseamos hacer un listado:\n",
    "1. primer item\n",
    "2. segundo item\n",
    "3. tercer item\n",
    "    3.1 primer sub item\n",
    "    3.2 segundo sub item\n",
    "    3.3 tercer sub item\n",
    "- punto uno\n",
    "- punto dos\n",
    "    - sub punto uno\n",
    "        - sub sub punto uno"
   ]
  },
  {
   "cell_type": "markdown",
   "metadata": {
    "collapsed": false
   },
   "source": [
    "Si queremos utilizar imágenes desde internet para nuestro reporte usamos:\n",
    "<img src=\"https://seeklogo.com/images/D/dataspell-logo-06435B9CF3-seeklogo.com.png\" alt=\"soy una descripción de imagen\" title=\"yo soy un título\" />\n",
    "\n",
    "Más ejemplos para personalizar nuestro notebook en:\n",
    "[Markdown Cheat Sheet](https://www.markdownguide.org/cheat-sheet/)"
   ]
  },
  {
   "cell_type": "markdown",
   "metadata": {
    "collapsed": false
   },
   "source": [
    "Ejemplo del llamado de una función, para mantener legible nuestro notebook"
   ]
  },
  {
   "cell_type": "code",
   "execution_count": 15,
   "metadata": {
    "ExecuteTime": {
     "end_time": "2023-09-12T02:21:46.110403200Z",
     "start_time": "2023-09-12T02:21:45.898510700Z"
    },
    "collapsed": false
   },
   "outputs": [],
   "source": [
    "import importlib\n",
    "import sys\n",
    "sys.path.append('../')  # Agrega la ruta al directorio utils\n",
    "\n",
    "import utils.imports as imp\n",
    "import utils.visuals as visu\n",
    "import utils.processing as proc\n",
    "import numpy as np\n",
    "from sklearn.impute import SimpleImputer\n",
    "\n",
    "importlib.reload(imp)\n",
    "importlib.reload(visu)\n",
    "importlib.reload(proc)\n",
    "\n",
    "import pandas as pd\n",
    "\n"
   ]
  },
  {
   "cell_type": "code",
   "execution_count": 16,
   "metadata": {},
   "outputs": [],
   "source": [
    "dataset = pd.read_csv(\"../../conjunto_de_datos_natalidad_2022.csv\")"
   ]
  },
  {
   "cell_type": "code",
   "execution_count": 18,
   "metadata": {},
   "outputs": [
    {
     "name": "stdout",
     "output_type": "stream",
     "text": [
      "Index(['ent_regis', 'mun_regis', 'loc_regis', 'tloc_regis', 'ent_resid',\n",
      "       'mun_resid', 'loc_resid', 'tloc_resid', 'ent_ocurr', 'mun_ocurr',\n",
      "       'loc_ocurr', 'tloc_ocurr', 'sexo', 'edad_reg', 'edad_madn', 'edad_padn',\n",
      "       'dia_nac', 'mes_nac', 'ano_nac', 'dia_reg', 'mes_reg', 'ano_reg',\n",
      "       'edad_madr', 'edad_padr', 'tipo_nac', 'orden_part', 'lugar_part',\n",
      "       'q_atendio', 'hijos_vivo', 'hijos_sobr', 'edociv_mad', 'escol_mad',\n",
      "       'escol_pad', 'act_mad', 'act_pad', 'pos_mad', 'pos_pad', 'sitlab_mad',\n",
      "       'sitlab_pad', 'fue_prese', 'hora_nac', 'minuto_nac', 'comparecio',\n",
      "       'dis_re_oax'],\n",
      "      dtype='object')\n"
     ]
    }
   ],
   "source": [
    "print(dataset.columns)\n",
    "imputer = SimpleImputer(missing_values=np.nan, strategy='mean')\n",
    "imputed_dataset = imputer.fit_transform(dataset)\n",
    "\n",
    "# If you need the imputed dataset as a DataFrame with the same column names\n",
    "imputed_dataset_df = pd.DataFrame(imputed_dataset, columns=dataset.columns)"
   ]
  },
  {
   "cell_type": "code",
   "execution_count": 83,
   "metadata": {},
   "outputs": [],
   "source": [
    "visu.save_histogram(dataset, 'sexo')"
   ]
  },
  {
   "cell_type": "code",
   "execution_count": 84,
   "metadata": {},
   "outputs": [
    {
     "name": "stdout",
     "output_type": "stream",
     "text": [
      "output/scatterplots folder created\n"
     ]
    }
   ],
   "source": [
    "visu.save_correlation(dataset, \"ent_regis\", \"tipo_nac\")"
   ]
  },
  {
   "cell_type": "code",
   "execution_count": 3,
   "metadata": {},
   "outputs": [],
   "source": [
    "norm_dataset = proc.normalize_diabetes_data(dataset)"
   ]
  },
  {
   "cell_type": "code",
   "execution_count": 19,
   "metadata": {},
   "outputs": [
    {
     "name": "stderr",
     "output_type": "stream",
     "text": [
      "c:\\Ambientes\\CD2024\\Lib\\site-packages\\sklearn\\impute\\_base.py:555: UserWarning: Skipping features without any observed values: ['ano_reg']. At least one non-missing value is needed for imputation with strategy='mean'.\n",
      "  warnings.warn(\n"
     ]
    },
    {
     "name": "stdout",
     "output_type": "stream",
     "text": [
      "<class 'numpy.ndarray'>\n"
     ]
    }
   ],
   "source": [
    "imp = SimpleImputer(missing_values=np.nan, strategy='mean')\n",
    "training_data, test_data = proc.split_data(norm_dataset, 0.5)\n",
    "training_input = training_data[['ent_regis', 'mun_regis', 'loc_regis', 'tloc_regis', 'ent_resid',\n",
    "                 'mun_resid', 'loc_resid', 'tloc_resid', 'ent_ocurr', 'mun_ocurr',\n",
    "                 'loc_ocurr', 'tloc_ocurr', 'sexo', 'edad_reg', 'edad_madn', 'edad_padn',\n",
    "                 'dia_nac', 'mes_nac', 'ano_nac', 'dia_reg', 'mes_reg', 'ano_reg',\n",
    "                 'edad_madr', 'edad_padr', 'orden_part', 'lugar_part',\n",
    "                 'q_atendio', 'hijos_vivo', 'hijos_sobr', 'edociv_mad', 'escol_mad',\n",
    "                 'escol_pad', 'act_mad', 'act_pad', 'pos_mad', 'pos_pad', 'sitlab_mad',\n",
    "                 'sitlab_pad', 'fue_prese', 'hora_nac', 'minuto_nac', 'comparecio',\n",
    "                 'dis_re_oax']]\n",
    "training_output = training_data[\"tipo_nac\"]\n",
    "\n",
    "training_input_imputed = imp.fit_transform(training_input)\n",
    "#print(type(training_input_imputed))\n",
    "\n",
    "model = proc.simple_linear_regression(training_input_imputed, training_output, training_input_imputed.shape[1])"
   ]
  },
  {
   "cell_type": "code",
   "execution_count": 26,
   "metadata": {},
   "outputs": [
    {
     "name": "stderr",
     "output_type": "stream",
     "text": [
      "c:\\Ambientes\\CD2024\\Lib\\site-packages\\sklearn\\impute\\_base.py:555: UserWarning: Skipping features without any observed values: ['ano_reg']. At least one non-missing value is needed for imputation with strategy='mean'.\n",
      "  warnings.warn(\n"
     ]
    },
    {
     "ename": "AttributeError",
     "evalue": "'numpy.ndarray' object has no attribute 'values'",
     "output_type": "error",
     "traceback": [
      "\u001b[1;31m---------------------------------------------------------------------------\u001b[0m",
      "\u001b[1;31mAttributeError\u001b[0m                            Traceback (most recent call last)",
      "Cell \u001b[1;32mIn[26], line 15\u001b[0m\n\u001b[0;32m     12\u001b[0m imputer \u001b[38;5;241m=\u001b[39m SimpleImputer(missing_values\u001b[38;5;241m=\u001b[39mnp\u001b[38;5;241m.\u001b[39mnan, strategy\u001b[38;5;241m=\u001b[39m\u001b[38;5;124m'\u001b[39m\u001b[38;5;124mmean\u001b[39m\u001b[38;5;124m'\u001b[39m)\n\u001b[0;32m     13\u001b[0m test_input_imputed \u001b[38;5;241m=\u001b[39m imputer\u001b[38;5;241m.\u001b[39mfit_transform(test_input)\n\u001b[1;32m---> 15\u001b[0m test_predictions \u001b[38;5;241m=\u001b[39m \u001b[43mproc\u001b[49m\u001b[38;5;241;43m.\u001b[39;49m\u001b[43mtest_predictions\u001b[49m\u001b[43m(\u001b[49m\u001b[43mmodel\u001b[49m\u001b[43m,\u001b[49m\u001b[43m \u001b[49m\u001b[43mtest_input_imputed\u001b[49m\u001b[43m,\u001b[49m\u001b[43m \u001b[49m\u001b[38;5;241;43m43\u001b[39;49m\u001b[43m)\u001b[49m\n",
      "File \u001b[1;32mc:\\Users\\52442\\OneDrive\\Documentos\\GitHub\\inegi_explore\\notebooks\\..\\utils\\processing.py:67\u001b[0m, in \u001b[0;36mtest_predictions\u001b[1;34m(model, input_test, columns)\u001b[0m\n\u001b[0;32m     66\u001b[0m \u001b[38;5;28;01mdef\u001b[39;00m \u001b[38;5;21mtest_predictions\u001b[39m(model, input_test, columns):\n\u001b[1;32m---> 67\u001b[0m     output_test \u001b[38;5;241m=\u001b[39m model\u001b[38;5;241m.\u001b[39mpredict(\u001b[43minput_test\u001b[49m\u001b[38;5;241;43m.\u001b[39;49m\u001b[43mvalues\u001b[49m\u001b[38;5;241m.\u001b[39mreshape(\u001b[38;5;241m-\u001b[39m\u001b[38;5;241m1\u001b[39m, columns))\n\u001b[0;32m     68\u001b[0m     \u001b[38;5;28;01mreturn\u001b[39;00m output_test\n",
      "\u001b[1;31mAttributeError\u001b[0m: 'numpy.ndarray' object has no attribute 'values'"
     ]
    }
   ],
   "source": [
    "test_input = training_data[['ent_regis', 'mun_regis', 'loc_regis', 'tloc_regis', 'ent_resid',\n",
    "                 'mun_resid', 'loc_resid', 'tloc_resid', 'ent_ocurr', 'mun_ocurr',\n",
    "                 'loc_ocurr', 'tloc_ocurr', 'sexo', 'edad_reg', 'edad_madn', 'edad_padn',\n",
    "                 'dia_nac', 'mes_nac', 'ano_nac', 'dia_reg', 'mes_reg', 'ano_reg',\n",
    "                 'edad_madr', 'edad_padr', 'orden_part', 'lugar_part',\n",
    "                 'q_atendio', 'hijos_vivo', 'hijos_sobr', 'edociv_mad', 'escol_mad',\n",
    "                 'escol_pad', 'act_mad', 'act_pad', 'pos_mad', 'pos_pad', 'sitlab_mad',\n",
    "                 'sitlab_pad', 'fue_prese', 'hora_nac', 'minuto_nac', 'comparecio',\n",
    "                 'dis_re_oax']]\n",
    "test_output = training_data[\"tipo_nac\"]\n",
    "\n",
    "imputer = SimpleImputer(missing_values=np.nan, strategy='mean')\n",
    "test_input_imputed = imputer.fit_transform(test_input)\n",
    "\n",
    "test_predictions = proc.test_predictions(model, test_input_imputed, 43)"
   ]
  },
  {
   "cell_type": "code",
   "execution_count": 96,
   "metadata": {},
   "outputs": [
    {
     "name": "stdout",
     "output_type": "stream",
     "text": [
      "Coefficients:  [-0.09221163  3.14713413  0.59841022 -2.24858677]\n",
      "Mean Squared Error:  0.017937938579416318\n",
      "R² Score:  0.00034335209002411826\n"
     ]
    }
   ],
   "source": [
    "coefficients = proc.get_coefficients(model)\n",
    "print(\"Coefficients: \", coefficients)\n",
    "MSE = proc.get_mean_squared_error(test_output,\n",
    "                                  test_predictions)\n",
    "print(\"Mean Squared Error: \", MSE)\n",
    "R2 = proc.get_coefficient_determination(test_output,\n",
    "                                        test_predictions)\n",
    "print(\"R² Score: \", R2)"
   ]
  }
 ],
 "metadata": {
  "kernelspec": {
   "display_name": "Python 3 (ipykernel)",
   "language": "python",
   "name": "python3"
  },
  "language_info": {
   "codemirror_mode": {
    "name": "ipython",
    "version": 3
   },
   "file_extension": ".py",
   "mimetype": "text/x-python",
   "name": "python",
   "nbconvert_exporter": "python",
   "pygments_lexer": "ipython3",
   "version": "3.11.2"
  }
 },
 "nbformat": 4,
 "nbformat_minor": 4
}
